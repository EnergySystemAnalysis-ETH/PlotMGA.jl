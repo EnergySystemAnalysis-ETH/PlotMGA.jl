{
 "cells": [
  {
   "cell_type": "code",
   "execution_count": null,
   "id": "679a9280",
   "metadata": {
    "scrolled": true
   },
   "outputs": [],
   "source": [
    "using SQLite\n",
    "using StatsPlots; gr() # choose your favourite plotting backend\n",
    "using PlotMGA\n",
    "using DataFrames"
   ]
  },
  {
   "cell_type": "markdown",
   "id": "bdaa18cd",
   "metadata": {},
   "source": [
    "## Data selection\n",
    "### We first specify all data that we are intested in, alongside the data columns\n",
    "### If the data is of a type that needs a different type of processing, we can define the processing as: \n",
    "```\n",
    "function process_fn1(df)\n",
    "    ...\n",
    "end\n",
    "function process_fn2(df)\n",
    "    ...\n",
    "end\n",
    "process(::Val{:new_type}) = process_fn1 ∘ process_fn2\n",
    "```"
   ]
  },
  {
   "cell_type": "code",
   "execution_count": null,
   "id": "713032c7",
   "metadata": {},
   "outputs": [],
   "source": [
    "path = \"example.sqlite\" # sqlite db with data to be plotted\n",
    "\n",
    "db = SQLite.DB(path)\n",
    "\n",
    "total_costs = get_param(db, :total_costs, \n",
    "    [:mga_iteration, :alternative, :total_value])\n",
    "storages_invested = get_param(db, :storages_invested, \n",
    "    [:mga_iteration, :alternative, :technology, :installation, :total_value])\n",
    "units_invested = get_param(db, :units_invested, \n",
    "    [:mga_iteration, :alternative, :technology, :installation, :total_value])\n",
    "unit_flows = get_param(db, :unit_flow, \n",
    "    [:mga_iteration, :alternative, :technology, :installation, :destination, :total_value])\n",
    "\n",
    "SQLite.close(db)"
   ]
  },
  {
   "cell_type": "code",
   "execution_count": null,
   "id": "32a5432c",
   "metadata": {},
   "outputs": [],
   "source": [
    "picture_folder = \"pics/\" # a lot of pictures are generated, so its better to keep them in a folder"
   ]
  },
  {
   "cell_type": "markdown",
   "id": "ab0c561a",
   "metadata": {},
   "source": [
    "## Plotting the flow profiles\n",
    "### We can plot how the profiles change in every MGA iteration.\n",
    "### We define all of the commodity flow profile types, along with their properties, that we are inserested in plotting. The profiles are grouped, e.g., according to the commodity of the flow. The group can be defined:\n",
    "```\n",
    "[\n",
    "    ProfileType(profile_name_1, df_filter_predicate_1),\n",
    "    ProfileType(profile_name_2, df_filter_predicate_2),\n",
    "    ...\n",
    "]\n",
    "```\n",
    "### The plotting will be done over all of the combinations of the profiles types; in this case: electricity production, electricity storage, heat production, and heat storage\n",
    "### Note that during plotting, we have to also specify the flow units (MWh or GWh)"
   ]
  },
  {
   "cell_type": "code",
   "execution_count": null,
   "id": "ecb4ddf8",
   "metadata": {},
   "outputs": [],
   "source": [
    "commodity_types = [\n",
    "    ProfileType(\"Electricity\", :destination=>ByRow(contains(\"Electricity\"))),\n",
    "    ProfileType(\"Heat\", :destination=>ByRow(contains(\"Space_Heating\")))\n",
    "]\n",
    "\n",
    "storages = unique(storages_invested.technology)\n",
    "production_types = [\n",
    "    ProfileType(\"Production\", :technology=>ByRow(!in(storages))),\n",
    "    ProfileType(\"Storage\", :technology=>ByRow(in(storages))),\n",
    "]\n",
    "\n",
    "plot_all_mga_profiles(\n",
    "    unit_flows, PlotMGA.GWh, commodity_types, production_types,\n",
    "    fig_prefix=\"$(picture_folder)mga_profile_for_\"\n",
    ")"
   ]
  },
  {
   "cell_type": "markdown",
   "id": "2c764888",
   "metadata": {},
   "source": [
    "## Plotting interactions between technologies, and their effects\n",
    "### We can plot how the capacity of installed technology reacts with different technological installations.\n",
    "### As the plotting is done over every alternative in database (e.g., used algorithm) we have to define markers to differentiate between them. We have to also define the marker for the optimal solution\n",
    "### Here interactions are also plotted against the costs, but any df with effects will do (e.g, CO2 emmissions)"
   ]
  },
  {
   "cell_type": "code",
   "execution_count": null,
   "id": "e9684254",
   "metadata": {},
   "outputs": [],
   "source": [
    "markers = Dict(\n",
    "    \"fuzzy_1h.json\" => :x,\n",
    "    \"hsj_05_1h.json\" => :circle,\n",
    "    \"hsj_1_1h.json\" => :rect,\n",
    "    \"Optimal\" => :diamond\n",
    ")\n",
    "\n",
    "plot_technology_interactions(\n",
    "    units_invested, total_costs, markers, \n",
    "    fig_prefix=\"$(picture_folder)technology_interactions_\", display_plot=false\n",
    ")"
   ]
  },
  {
   "cell_type": "code",
   "execution_count": null,
   "id": "706c60d6",
   "metadata": {},
   "outputs": [],
   "source": [
    "plot_technology_effects(\n",
    "    units_invested, total_costs, \n",
    "    fig_prefix=\"$(picture_folder)technology_effects_on_cost_\"\n",
    ")"
   ]
  }
 ],
 "metadata": {
  "kernelspec": {
   "display_name": "Julia 1.11.3",
   "language": "julia",
   "name": "julia-1.11"
  },
  "language_info": {
   "file_extension": ".jl",
   "mimetype": "application/julia",
   "name": "julia",
   "version": "1.11.3"
  }
 },
 "nbformat": 4,
 "nbformat_minor": 5
}
