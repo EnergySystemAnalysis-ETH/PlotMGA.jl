{
 "cells": [
  {
   "cell_type": "code",
   "execution_count": null,
   "id": "679a9280",
   "metadata": {
    "scrolled": true
   },
   "outputs": [],
   "source": [
    "using SQLite\n",
    "using StatsPlots; gr() # choose your favourite plotting backend\n",
    "using PlotMGA\n",
    "using DataFrames"
   ]
  },
  {
   "cell_type": "code",
   "execution_count": null,
   "id": "713032c7",
   "metadata": {},
   "outputs": [],
   "source": [
    "path = \"example.sqlite\"\n",
    "\n",
    "db = SQLite.DB(path)\n",
    "\n",
    "total_costs = get_param(db, :total_costs, \n",
    "    [:mga_iteration, :alternative, :total_value])\n",
    "storages_invested = get_param(db, :storages_invested, \n",
    "    [:mga_iteration, :alternative, :technology, :installation, :total_value])\n",
    "units_invested = get_param(db, :units_invested, \n",
    "    [:mga_iteration, :alternative, :technology, :installation, :total_value])\n",
    "unit_flows = get_param(db, :unit_flow, \n",
    "    [:mga_iteration, :alternative, :technology, :installation, :destination, :total_value])\n",
    "\n",
    "SQLite.close(db)"
   ]
  },
  {
   "cell_type": "code",
   "execution_count": null,
   "id": "32a5432c",
   "metadata": {},
   "outputs": [],
   "source": [
    "picture_folder = \"pics/\""
   ]
  },
  {
   "cell_type": "code",
   "execution_count": null,
   "id": "ecb4ddf8",
   "metadata": {},
   "outputs": [],
   "source": [
    "commodity_types = [\n",
    "    ProfileType(\"Electricity\", :destination=>ByRow(contains(\"Electricity\"))),\n",
    "    ProfileType(\"Heat\", :destination=>ByRow(contains(\"Space_Heating\")))\n",
    "]\n",
    "\n",
    "storages = unique(storages_invested.technology)\n",
    "production_types = [\n",
    "    ProfileType(\"Production\", :technology=>ByRow(!in(storages))),\n",
    "    ProfileType(\"Storage\", :technology=>ByRow(in(storages))),\n",
    "]\n",
    "\n",
    "plot_all_mga_profiles(\n",
    "    unit_flows, PlotMGA.GWh, commodity_types, production_types,\n",
    "    fig_prefix=\"$(picture_folder)mga_profile_for_\"\n",
    ")"
   ]
  },
  {
   "cell_type": "code",
   "execution_count": null,
   "id": "e9684254",
   "metadata": {},
   "outputs": [],
   "source": [
    "markers = Dict(\n",
    "    \"fuzzy_1h.json\" => :x,\n",
    "    \"hsj_05_1h.json\" => :circle,\n",
    "    \"hsj_1_1h.json\" => :rect,\n",
    "    \"Optimal\" => :diamond\n",
    ")\n",
    "\n",
    "plot_technology_interactions(\n",
    "    units_invested, total_costs, markers, \n",
    "    fig_prefix=\"$(picture_folder)technology_interactions_\", display_plot=false\n",
    ")"
   ]
  },
  {
   "cell_type": "code",
   "execution_count": null,
   "id": "706c60d6",
   "metadata": {},
   "outputs": [],
   "source": [
    "plot_technology_effects(\n",
    "    units_invested, total_costs, \n",
    "    fig_prefix=\"$(picture_folder)technology_effects_on_cost_\"\n",
    ")"
   ]
  },
  {
   "cell_type": "code",
   "execution_count": null,
   "id": "051dd8fb",
   "metadata": {},
   "outputs": [],
   "source": []
  }
 ],
 "metadata": {
  "kernelspec": {
   "display_name": "Julia 1.11.3",
   "language": "julia",
   "name": "julia-1.11"
  },
  "language_info": {
   "file_extension": ".jl",
   "mimetype": "application/julia",
   "name": "julia",
   "version": "1.11.3"
  }
 },
 "nbformat": 4,
 "nbformat_minor": 5
}
